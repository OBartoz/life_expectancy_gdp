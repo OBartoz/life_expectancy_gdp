{
 "cells": [
  {
   "cell_type": "markdown",
   "id": "398b05de",
   "metadata": {},
   "source": [
    "Download required packages for analysis:"
   ]
  },
  {
   "cell_type": "code",
   "execution_count": 1,
   "id": "27602ea0",
   "metadata": {},
   "outputs": [],
   "source": [
    "import pandas as pd\n",
    "import seaborn as sns\n",
    "import matplotlib.pyplot as plt\n",
    "import numpy as np"
   ]
  },
  {
   "cell_type": "markdown",
   "id": "31500e00",
   "metadata": {},
   "source": [
    "Download data to analyse:"
   ]
  },
  {
   "cell_type": "code",
   "execution_count": 2,
   "id": "979af9a6",
   "metadata": {},
   "outputs": [],
   "source": [
    "df_raw = pd.read_csv(\"all_data.csv\")"
   ]
  },
  {
   "cell_type": "markdown",
   "id": "8af83d41",
   "metadata": {},
   "source": [
    "Explore and start basic cleaning of data:"
   ]
  },
  {
   "cell_type": "code",
   "execution_count": 3,
   "id": "1e9f4171",
   "metadata": {},
   "outputs": [
    {
     "name": "stdout",
     "output_type": "stream",
     "text": [
      "   Country  Year  Life expectancy at birth (years)           GDP\n",
      "0    Chile  2000                              77.3  7.786093e+10\n",
      "1    Chile  2001                              77.3  7.097992e+10\n",
      "2    Chile  2002                              77.8  6.973681e+10\n",
      "3    Chile  2003                              77.9  7.564346e+10\n",
      "4    Chile  2004                              78.0  9.921039e+10\n",
      "5    Chile  2005                              78.4  1.229650e+11\n",
      "6    Chile  2006                              78.9  1.547880e+11\n",
      "7    Chile  2007                              78.9  1.736060e+11\n",
      "8    Chile  2008                              79.6  1.796380e+11\n",
      "9    Chile  2009                              79.3  1.723890e+11\n",
      "10   Chile  2010                              79.1  2.185380e+11\n",
      "11   Chile  2011                              79.8  2.522520e+11\n",
      "12   Chile  2012                              79.9  2.671220e+11\n",
      "13   Chile  2013                              80.1  2.783840e+11\n",
      "14   Chile  2014                              80.3  2.609900e+11\n",
      "15   Chile  2015                              80.5  2.425180e+11\n",
      "16   China  2000                              71.7  1.211350e+12\n",
      "17   China  2001                              72.2  1.339400e+12\n",
      "18   China  2002                              72.7  1.470550e+12\n",
      "19   China  2003                              73.1  1.660290e+12\n"
     ]
    }
   ],
   "source": [
    "print(df_raw.head(20))"
   ]
  },
  {
   "cell_type": "code",
   "execution_count": 4,
   "id": "9284fdd6",
   "metadata": {},
   "outputs": [
    {
     "name": "stdout",
     "output_type": "stream",
     "text": [
      "<class 'pandas.core.frame.DataFrame'>\n",
      "RangeIndex: 96 entries, 0 to 95\n",
      "Data columns (total 4 columns):\n",
      " #   Column                            Non-Null Count  Dtype  \n",
      "---  ------                            --------------  -----  \n",
      " 0   Country                           96 non-null     object \n",
      " 1   Year                              96 non-null     int64  \n",
      " 2   Life expectancy at birth (years)  96 non-null     float64\n",
      " 3   GDP                               96 non-null     float64\n",
      "dtypes: float64(2), int64(1), object(1)\n",
      "memory usage: 3.1+ KB\n",
      "None\n"
     ]
    }
   ],
   "source": [
    "print(df_raw.info())"
   ]
  },
  {
   "cell_type": "markdown",
   "id": "4f1472e7",
   "metadata": {},
   "source": [
    "Based on the first rows in the df, there could only be duplicates across the Country and Year columns combined. So here, they are removed."
   ]
  },
  {
   "cell_type": "code",
   "execution_count": 5,
   "id": "cf5d4d56",
   "metadata": {},
   "outputs": [],
   "source": [
    "df_new = df_raw.drop_duplicates(\n",
    "  subset = ['Country', 'Year'],\n",
    "  keep = 'last').reset_index(drop = True)"
   ]
  },
  {
   "cell_type": "code",
   "execution_count": 6,
   "id": "974799f4",
   "metadata": {},
   "outputs": [
    {
     "name": "stdout",
     "output_type": "stream",
     "text": [
      "Country                              6\n",
      "Year                                16\n",
      "Life expectancy at birth (years)    69\n",
      "GDP                                 96\n",
      "dtype: int64\n"
     ]
    }
   ],
   "source": [
    "print(df_new.nunique())"
   ]
  },
  {
   "cell_type": "markdown",
   "id": "4a1630bd",
   "metadata": {},
   "source": [
    "There should be 16 rows for each country, otherwise there could be missing data that needs to be dealt with:"
   ]
  },
  {
   "cell_type": "code",
   "execution_count": 7,
   "id": "33532950",
   "metadata": {},
   "outputs": [
    {
     "name": "stdout",
     "output_type": "stream",
     "text": [
      "['Chile' 'China' 'Germany' 'Mexico' 'United States of America' 'Zimbabwe']\n"
     ]
    }
   ],
   "source": [
    "print(pd.unique(df_new['Country']))\n",
    "Country = pd.unique(df_new['Country'])"
   ]
  },
  {
   "cell_type": "markdown",
   "id": "aff29fe8",
   "metadata": {},
   "source": [
    "There are 6 countries and 96 GDP. Simply performing a division allows me to see we have all 16 years per Country. But just to be sure:"
   ]
  },
  {
   "cell_type": "code",
   "execution_count": 8,
   "id": "5fd15d4e",
   "metadata": {},
   "outputs": [
    {
     "name": "stdout",
     "output_type": "stream",
     "text": [
      "   Country  Year\n",
      "0    Chile  2000\n",
      "1    Chile  2001\n",
      "2    Chile  2002\n",
      "3    Chile  2003\n",
      "4    Chile  2004\n",
      "5    Chile  2005\n",
      "6    Chile  2006\n",
      "7    Chile  2007\n",
      "8    Chile  2008\n",
      "9    Chile  2009\n",
      "10   Chile  2010\n",
      "11   Chile  2011\n",
      "12   Chile  2012\n",
      "13   Chile  2013\n",
      "14   Chile  2014\n",
      "15   Chile  2015\n",
      "   Country  Year\n",
      "16   China  2000\n",
      "17   China  2001\n",
      "18   China  2002\n",
      "19   China  2003\n",
      "20   China  2004\n",
      "21   China  2005\n",
      "22   China  2006\n",
      "23   China  2007\n",
      "24   China  2008\n",
      "25   China  2009\n",
      "26   China  2010\n",
      "27   China  2011\n",
      "28   China  2012\n",
      "29   China  2013\n",
      "30   China  2014\n",
      "31   China  2015\n",
      "    Country  Year\n",
      "32  Germany  2000\n",
      "33  Germany  2001\n",
      "34  Germany  2002\n",
      "35  Germany  2003\n",
      "36  Germany  2004\n",
      "37  Germany  2005\n",
      "38  Germany  2006\n",
      "39  Germany  2007\n",
      "40  Germany  2008\n",
      "41  Germany  2009\n",
      "42  Germany  2010\n",
      "43  Germany  2011\n",
      "44  Germany  2012\n",
      "45  Germany  2013\n",
      "46  Germany  2014\n",
      "47  Germany  2015\n",
      "   Country  Year\n",
      "48  Mexico  2000\n",
      "49  Mexico  2001\n",
      "50  Mexico  2002\n",
      "51  Mexico  2003\n",
      "52  Mexico  2004\n",
      "53  Mexico  2005\n",
      "54  Mexico  2006\n",
      "55  Mexico  2007\n",
      "56  Mexico  2008\n",
      "57  Mexico  2009\n",
      "58  Mexico  2010\n",
      "59  Mexico  2011\n",
      "60  Mexico  2012\n",
      "61  Mexico  2013\n",
      "62  Mexico  2014\n",
      "63  Mexico  2015\n",
      "                     Country  Year\n",
      "64  United States of America  2000\n",
      "65  United States of America  2001\n",
      "66  United States of America  2002\n",
      "67  United States of America  2003\n",
      "68  United States of America  2004\n",
      "69  United States of America  2005\n",
      "70  United States of America  2006\n",
      "71  United States of America  2007\n",
      "72  United States of America  2008\n",
      "73  United States of America  2009\n",
      "74  United States of America  2010\n",
      "75  United States of America  2011\n",
      "76  United States of America  2012\n",
      "77  United States of America  2013\n",
      "78  United States of America  2014\n",
      "79  United States of America  2015\n",
      "     Country  Year\n",
      "80  Zimbabwe  2000\n",
      "81  Zimbabwe  2001\n",
      "82  Zimbabwe  2002\n",
      "83  Zimbabwe  2003\n",
      "84  Zimbabwe  2004\n",
      "85  Zimbabwe  2005\n",
      "86  Zimbabwe  2006\n",
      "87  Zimbabwe  2007\n",
      "88  Zimbabwe  2008\n",
      "89  Zimbabwe  2009\n",
      "90  Zimbabwe  2010\n",
      "91  Zimbabwe  2011\n",
      "92  Zimbabwe  2012\n",
      "93  Zimbabwe  2013\n",
      "94  Zimbabwe  2014\n",
      "95  Zimbabwe  2015\n"
     ]
    }
   ],
   "source": [
    "df_CY= df_new[df_new.columns[0:2]]\n",
    "for variable in Country:\n",
    "    print(df_CY[df_CY.Country == variable].head(16))"
   ]
  },
  {
   "cell_type": "markdown",
   "id": "168f8fbf",
   "metadata": {},
   "source": [
    "There are only 69 life expectancies at birth, there should be 96:"
   ]
  },
  {
   "cell_type": "code",
   "execution_count": 9,
   "id": "ab65f868",
   "metadata": {},
   "outputs": [
    {
     "name": "stdout",
     "output_type": "stream",
     "text": [
      "Empty DataFrame\n",
      "Columns: [Country, Year, Life expectancy at birth (years), GDP]\n",
      "Index: []\n",
      "Empty DataFrame\n",
      "Columns: [Country, Year, Life expectancy at birth (years), GDP]\n",
      "Index: []\n",
      "Empty DataFrame\n",
      "Columns: [Country, Year, Life expectancy at birth (years), GDP]\n",
      "Index: []\n",
      "Empty DataFrame\n",
      "Columns: [Country, Year, Life expectancy at birth (years), GDP]\n",
      "Index: []\n"
     ]
    }
   ],
   "source": [
    "columns= ['Country', 'Year', 'GDP', 'Life expectancy at birth (years)']\n",
    "for variable in columns:\n",
    "    print(df_new[df_new[variable].isna()])\n"
   ]
  },
  {
   "cell_type": "code",
   "execution_count": null,
   "id": "0c63966a",
   "metadata": {},
   "outputs": [],
   "source": []
  }
 ],
 "metadata": {
  "kernelspec": {
   "display_name": "Python 3 (ipykernel)",
   "language": "python",
   "name": "python3"
  },
  "language_info": {
   "codemirror_mode": {
    "name": "ipython",
    "version": 3
   },
   "file_extension": ".py",
   "mimetype": "text/x-python",
   "name": "python",
   "nbconvert_exporter": "python",
   "pygments_lexer": "ipython3",
   "version": "3.9.12"
  }
 },
 "nbformat": 4,
 "nbformat_minor": 5
}
